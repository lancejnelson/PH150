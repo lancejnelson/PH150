{
  "cells": [
    {
      "cell_type": "markdown",
      "metadata": {},
      "source": [
        "# Lab 4: Statistical Interpretation of Uncertainty {-}\n",
        "\n",
        "Name:"
      ]
    },
    {
      "cell_type": "markdown",
      "metadata": {},
      "source": [
        "## Activity I Pendulum Period (33 points)\n",
        "\n",
        "### Equipment needed\n",
        "1. 1.5-meter-long pendulum.\n",
        "2. Stopwatch (the one on your phone will do)\n",
        "\n",
        "### Goal (Overview)\n",
        "Each student will measure the period of a 1.5-meter-long pendulum 10 times. This will result in a set of ~150 data points for the whole class.  We will then calculate the acceleration due to gravity for each measurement and calculate the  i) mean, ii) standard deviation, and iii) standard deviation of the mean and use these results to report an appropriate uncertainty.\n",
        "\n",
        "### Procedure\n",
        "1. A pendulum that is 1.5 meters long will be set up at the front of the class. Each person should measure the period of the pendulum with a stopwatch 10 times. Data should be recorded to the nearest 0.01 s.  For the best results try to keep the pendulum's amplitude consistent for all of the measurements, even by restarting as necessary.  The amplitude should be relatively small (less than about $10^\\circ$).  The pendulum should be swinging (rather than at rest) when the time measurement begins.\n",
        "2. Record your 10 measurements in the google sheets link provided below.\n",
        "3. Once everyone has collected their measurements someone needs to move all of the data into a single column.  Then download the file to your computer, saving it as a .csv file.  Then use the `np.loadtxt()` function to read this data into Python. Do this on line 7 of the code cell below.  (Remember: The file must be located in the same directory as this Jupyter notebook.)\n",
        "4. The acceleration due to gravity can be calculated from $$ g = {4 \\pi^2 L \\over T^2}$$ On line 9 of the code cell below calculate the acceleration due to gravity for each period measurement in the data set. To include $\\pi$ in your calculation use `np.pi`.\n",
        "5. Use the equations given in the reading above to calculate the mean, standard deviation, and standard deviation of the mean.  Perform these calculations on lines 10, 11, and 12 of the code cell below.  Use `np.sum()` to perform summations and `np.sqrt()` to perform square root functions.\n",
        "6. On lines 14,15, and 16 in the code cell below use the functions `stats.mean()` and `stats.stdev()` to calculate the mean, standard deviation, and standard deviation of the mean.  \n",
        "7. Construct a dataframe of data with the period located in the first column and the values of g in the second column.\n",
        "8. A statistical analysis of the data can be generated using `dataframe.describe()`, which creates a new dataframe containing often used statistics.  Do this on line.  \n",
        "7. Add a formatted print statement  to report an appropriate value for $g$ with its uncertainty.\n",
        "8. Plot a histogram of the g values.  \n",
        "9. The normal distribution is given by $$ N(x) = {1\\over \\sigma \\sqrt{2 \\pi}} e^{-(x- \\mu)^2\\over 2 \\sigma^2}$$. Plot this distribution on top of the histogram. Verify that the limiting distribution matches the histogram.  \n",
        "10. Calculate the p-value for this dataset using $g= 9.8$ as the expected value.  State whether the deviation of your experimental results are significant enough (at the $5\\%$ level ) to reject the experiment. Do this on line 22 in the code cell below.\n",
        "\n",
        "[Pendulum Data](https://docs.google.com/spreadsheets/d/1A2Xb7dDaDxjSH8YzRn0-Lb2er6qxWySYjmuLK-yiP4w/edit?usp=sharing)"
      ]
    },
    {
      "cell_type": "code",
      "execution_count": null,
      "metadata": {},
      "outputs": [],
      "source": [
        "#| eval: false\n",
        "#| echo: true\n",
        "\n",
        "import numpy as np\n",
        "import statistics as stats\n",
        "import math as mt\n",
        "from scipy.stats import ttest_1samp\n",
        "\n",
        "%matplotlib inline\n",
        "\n",
        "T =   # Line 7\n",
        "N = len(T)     # Find the number of data points.\n",
        "g =            # Line 9\n",
        "meanG =        # Line 10\n",
        "stdG =         # Line 11\n",
        "stdMeanG =     # Line 12\n",
        "\n",
        "μ =            # Line 14 \n",
        "σ =            # Line 15\n",
        "σ_μ =          # Line 16\n",
        "\n",
        "df =  # Construct a dataframe with periods in the first column and g-values in the second. (Line 18)\n",
        "display(df)\n",
        "summary =  #Construct a summary dataframe containing often-used statistics (Line 20)\n",
        "display(summary)\n",
        "p_value =      # Line 22\n",
        "\n",
        "\n",
        "\n",
        "# Plot the histogram and Normal distribution below."
      ]
    },
    {
      "cell_type": "markdown",
      "metadata": {},
      "source": [
        "## Activity II - Radioactivity (33 points)\n",
        "\n",
        "### Equipment needed\n",
        "1. Geiger Counter\n",
        "2. Radioactive sample (don't worry, they aren't active enough to be dangerous)\n",
        "3. LabQuest mini box with USB cable.\n",
        "4. Logger Pro software.  You can download a copy for your personal machine ([windows](https://www.vernier.com/d/yxoaa) or [mac](https://www.vernier.com/d/u7caf) ) or use one of the lab computers which have Logger Pro installed already.\n",
        "\n",
        "### Goal (Overview)\n",
        "We will use the electronic radiation monitor to measure the number of decays for a radiocative sample. We will calculate the mean and standard deviation of the data and make a histogram of the data.  The Poisson distribution will be plotted on top of the histogram to show it as the limiting distribution.\n",
        "\n",
        "### Procedure\n",
        "1. Using the Vernier Radiation Monitor, measure the decays of a radioactive sample.  Below you will find the instructions for setting up the Vernier Radiation Monitor to your laptop.  Use 10-second intervals and make 100 measurements.  \n",
        "2. Copy the data from Logger Pro to an Excel spreadsheet and save the worksheet.(The worksheet should have only one column of data.  Don't include the time data in the Excel worksheet.)\n",
        "3. Use the equation above for the mean ($\\mu$) to calculate the mean of the data and the equation below to calculate the standard deviation of the data. $$\\sigma = \\sqrt{\\mu}$$. Perform these calculations on lines 7 and 8 in the code cell below.\n",
        "4. Add a formatted print statement to report the appropriate count number with its associated uncertainty.\n",
        "5. One line 11 of the code cell below, produce a histogram just as we did together in activity I. Choose `bins = ` so that the histogram displays a sufficient amount of detail.\n",
        "6. The limiting distribution for this kind of data is called a Poisson distribution (equation given below).  It is only defined for integer values of the argument and it is hard to plot using standard plotting techniques.  I have provided the code to plot this function in the code cell below.  You may have to modify the numbers on line 14 to plot over the appropriate range.  $$P(x) = e^{-\\mu} {\\mu^x \\over x!} $$\n",
        "\n",
        ">Instructions for using the Vernier Radiation Monitor:\n",
        "\n",
        ">1. Connect the Vernier Radiation Monitor to the DIG 1 port of the LabQuest Mini.\n",
        ">2. Connect the USB cord from the LabQuest Mini to your laptop.\n",
        ">3. Within the LoggerPro software, do the following:\n",
        ">   1. Select Experiment -> Data Collection and change the duration to 1000 seconds.\n",
        "   \n",
        "   \n",
        "   \n",
        "   <img src=\"https://github.com/lancejnelson/PH121/raw/gh-pages/files/LoggerProRadiation.png\" alt=\"drawing\" width=\"600px\"/>"
      ]
    },
    {
      "cell_type": "code",
      "execution_count": null,
      "metadata": {},
      "outputs": [],
      "source": [
        "#| eval: false\n",
        "#| echo: true\n",
        "from scipy.stats import poisson,norm\n",
        "from numpy import arange\n",
        "from matplotlib import pyplot as plt\n",
        "\n",
        "data =  #Load the data from file (Line 5)\n",
        "\n",
        "μ =   # Calculate mean (Line 7)\n",
        "σ =   # Calculate standard deviation (Line 8)\n",
        "\n",
        "              \n",
        "              # Construct Histogram (Line 11)\n",
        "\n",
        "dist = poisson(μ)\n",
        "x = arange(0,40)    # Line 14: May have to modify these numbers.\n",
        "ax.plot(x,dist.pmf(x))\n",
        "plt.show()\n"
      ]
    },
    {
      "cell_type": "markdown",
      "metadata": {},
      "source": [
        "## Activity III - Projectile Range (33 points)\n",
        "\n",
        "### Goal (Overview)\n",
        "This activity is identical in nature to Activity I.  Instead of measuring the period of a pendulum, we will measure the range of a projectile.  The analysis of the data will be very similar to that performed in Activity I.  \n",
        "\n",
        "### Setup\n",
        "1. As a class, pick some launch conditions.  Thes must include the launch angle, launch power setting, and initial height.  Pick one person to write these launch conditions on the whiteboard at the front of the class.\n",
        "2. Setup the cannon in a location where everyone in the class can access it and perform measurements.  \n",
        "\n",
        "### Procedure\n",
        "1. Using the launch conditions chosen in step 1, predict the range of the steel ball.  Perform the calculations in the code cell below. \n",
        "2. Using the projectile launcher, fire a steel ball 10 times per student and measure the range in meters.  \n",
        "3. Again, we will pool our data together as a class to increase the size of the dataset.  Therefore, it is very important that every student launches **under the same conditions** and every students' measurements are free of bias.  Add your data to the Google sheets document linked below.\n",
        "4. When all the data is collected, have Python read the data set using `np.genfromtxt()` just as you did in activity I.\n",
        "5. Calculate the mean, standard deviation, and standard deviation of the mean using your preferred calculation method. (Either with `stats.mean()` and `stats.stdev()` ,using the equations given above, or using a python dataframe.)\n",
        "6. Plot a histogram of the data.  Choose `bins =` appropriately so the histogram displays with sufficient detail.\n",
        "7. Plot the normal distribution on top to verify that it is the limiting distribution.\n",
        "8. Add a formatted print statement to report the particle's range with its associated uncertainty.\n",
        "9. Calculate the p-value for your data set using the predicted range from part 1 as your expected value. State whether the deviation of your experimental results are significant enough (at the $5\\%$ level ) to reject the experiment. \n",
        "\n",
        "No template code cell will be provided for this activity (hopefully you are feeling more and more comfortable writing simple code on your own), but you can copy/paste from previous activities if needed.\n",
        "\n",
        "[Projectile Data](https://docs.google.com/spreadsheets/d/1frC8Yy7TK7fDN_z7E-1BQEOr6knhIZweFHdOTky6TQM/edit?usp=sharing)\n"
      ]
    },
    {
      "cell_type": "code",
      "execution_count": null,
      "metadata": {},
      "outputs": [],
      "source": [
        "# Put code here\n"
      ]
    }
  ],
  "metadata": {
    "kernelspec": {
      "display_name": "Python 3",
      "language": "python",
      "name": "python3"
    }
  },
  "nbformat": 4,
  "nbformat_minor": 4
}
