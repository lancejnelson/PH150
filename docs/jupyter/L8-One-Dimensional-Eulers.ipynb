{
  "cells": [
    {
      "cell_type": "markdown",
      "metadata": {},
      "source": [
        "# Lab 8 Euler's Method: Including Air Resistance {-}\n",
        "\n",
        "[Jupyter Notebook](https://lancejnelson.github.io/PH150/jupyter/L8-One-Dimensional-Eulers.ipynb)\n",
        "\n",
        "Name:\n",
        "\n",
        "## Skills\n",
        "In this lab you will gain the following skills\n",
        "\n",
        "### Python\n",
        "1. Understand the basics of loops.\n",
        "2. Know the difference between a for loop and a while loop.\n",
        "3. Use logic inside of a loop\n",
        "4. Construct an Euler's method code for simple one-dimensional motion.\n",
        "\n",
        "\n",
        "### Mathematical/Experimental Skills and Knowledge\n",
        "1. Know and use kinematic equations to motion problems.\n",
        "2. Know what Euler's method is.\n",
        "\n",
        "    \n",
        "## Background Information\n",
        "\n",
        "### Review of Kinematics\n",
        "Most will be familiar with the kinematic equations of motion, which can be used in situations involving constant acceleration.  The kinematic equations are.\n",
        "$$v_f = v_i + a \\Delta t$$\n",
        "$$x_f = x_i + v_i \\Delta t + {1\\over 2} a \\Delta t^2$$\n",
        "\n",
        "As an example, consider a car that is initially at rest, waiting for the stoplight to turn green.  Once the light turns green, the driver presses on the accelerator and the car's speed begins to increase. After accelerating at a rate of $a = 5$ m/s$^2$ for $t = 3$ s, the driver eases up and reduces the acceleration to a more modest $a = 2$ m/s$^2$ and maintains this acceleration for another $\\Delta t = 8$ s.  How would you determine the position and speed of the car after the full $11$ seconds had elapsed?  The kinematic equations above could be applied to the first 3 seconds of the trip or to the last 8 seconds of the trip, but couldn't be applied from the start to the end. Let's use the kinematic equations to determine the speed and position after the first 3 seconds.\n",
        "$$ v_1 = v_0 + a_0 \\Delta t$$\n",
        "$$ = (0 ~\\text{m/s}) + (5 ~\\text{m/s}^2) (3 ~\\text{s})$$\n",
        "$$ = 15 ~\\text{m/s}$$\n",
        "$$x_1 = x_0 + v_0 \\Delta t + {1\\over 2} a_0 \\Delta t^2$$\n",
        "$$ = (0 ~\\text{m}) + (0 ~\\text{m/s}) (3 ~\\text{s}) + {1\\over 2}(5 ~\\text{m/s}^2) (3 ~\\text{s})^2$$\n",
        "$$ = 22.5 ~\\text{m}$$\n",
        "Now that we have the speed and velocity at $t = 3$ we can proceed to use the same kinematic equations for the second part of the motion. \n",
        "$$ v_2 = v_1 + a_1 \\Delta t$$\n",
        "$$ = (15 ~\\text{m/s}) + (2 ~\\text{m/s}^2) (8 ~\\text{s})$$\n",
        "$$ = 31 ~\\text{m/s}$$\n",
        "$$x_2 = x_1 + v_1 \\Delta t + {1\\over 2} a_1 \\Delta t^2$$\n",
        "$$ = (22.5 ~\\text{m}) + (15 ~\\text{m/s}) (8 ~\\text{s}) + {1\\over 2}(2 ~\\text{m/s}^2) (8 ~\\text{s})^2$$\n",
        "$$ = 206.5 ~\\text{m}$$\n",
        "Since the kinematic equations only apply to constant-acceleration motion, the problem had to be divided into two parts: one for each constant-acceleration portion of the motion.  \n",
        "Now, what if the motion involved 5 different segments, each with a different acceleration, with the acceleration starting at 4 m/s$^2$ and decreasing by $1$ m/s$^2$ every second.\n",
        "\n",
        "| time(s)| acceleration (m/s$^2$)|\n",
        "|--------|-----------------------|\n",
        "| 0 | 4 | \n",
        "| 1 | 3 | \n",
        "| 2 | 2| \n",
        "| 3 | 1 |\n",
        "\n",
        "We could repeat the process from above to generate the positions and velocities at these four times.   \n",
        "\n",
        "| time(s)| x(m) | v (m/s) | a (m/s$^2$)|\n",
        "|--------|-----|---------|------------|\n",
        "| equation | $x_{n+1} = x_n + v_n \\Delta t + {1\\over 2}a_n \\Delta t^2$ | $v_{n+1} = v_n + a_n \\Delta t$| |\n",
        "| 0 | 0 | 0 | 4 | \n",
        "| 1 | 2|4|  3 | \n",
        "| 2 |7.5 |7| 2| \n",
        "| 3 | 15.5|9| 1 |\n",
        "\n",
        "The $x_{n+1}$ and $x_n$ are standard notation to mean the next x ($x_{n+1}$) and the current x ($x_n$)\n",
        "\n",
        "This process could be extended for as long as you wanted but I hope you can see that you don't want to do this by hand for very long.  \n",
        "\n",
        "### Euler's Method\n",
        "Most realistic scenarios involve accelerations that change **continuously**, not discretely like the examples above.  However, we can still employ the method used above if we use a time step ($\\Delta t$) that is very small.  Even if the acceleration varies substantially over long time intervals, it will always be nearly constant over very small time steps.  We call this Euler's method and the steps to implement Euler's method are as follows:\n",
        "\n",
        "1. Define the initial conditions.  For particle motion this involves defining the initial position and velocity of the object as well as any other variable that **do not change** over time.\n",
        "2. Repeatedly calculate the following quantities.\n",
        "   1. The current acceleration. The acceleration function is typically given to you or can be derived from Newton's law. This expression will always be a function of time,position, and/or velocity and must be re-evaluated every time you advance by a time step.\n",
        "   2. Use a kinematic equation to calculate the next position using the previous position and velocity.\n",
        "   3. Use a kinematic equation to calculate the next velocity using the previous position and velocity.\n",
        "   4. If you want to store all of your positions and velocities for later use, append them to a list.\n",
        "\n",
        "\n",
        "An example implementation of Euler's method for a particle (experiencing no air resistance) thrown upward (with $v = 30$ m/s) from an initial height of $y_i = 70$ m, is shown below. "
      ]
    },
    {
      "cell_type": "code",
      "metadata": {},
      "source": [
        "# Import statements\n",
        "import numpy as np \n",
        "import matplotlib.pyplot as plt\n",
        "\n",
        "v0 = 30.0 # Initial velocity in m/s\n",
        "y0 = 70 # Initial height in m\n",
        "\n",
        "delta_t = 0.01 # Time step in seconds (should be small)\n",
        "t0 = 0 # Start time in seconds\n",
        "t_max = 7.0 #Final Time\n",
        "\n",
        "N = (t_max - t0)/delta_t # Calculate the number of time steps\n",
        "\n",
        "N = int(N) # Make sure N is an integer\n",
        "# Make lists to store your positions, velocities and times.\n",
        "y = [y0]\n",
        "v = [v0]\n",
        "t = [t0]\n",
        "\n",
        "for i in range(N):\n",
        "   a = -9.8  # Calculate the current acceleration\n",
        "\n",
        "   # Store the new position, velocity, and time in the lists\n",
        "   v.append(v[i] + a * delta_t)\n",
        "   y.append(y[i] + v[i] * delta_t)\n",
        "   t.append(t[i] + delta_t)\n",
        "\n",
        "plt.plot(t,y,linewidth = 2, color = 'red')\n",
        "plt.xlabel(\"time (s)\")\n",
        "plt.ylabel(\"Position (m)\")\n",
        "plt.title(\"Position vs. time for a ball in free fall\")"
      ],
      "execution_count": null,
      "outputs": []
    },
    {
      "cell_type": "markdown",
      "metadata": {},
      "source": [
        "###  The code - Broken down\n",
        "This section will break the program down piece by piece. Here's the first section:"
      ]
    },
    {
      "cell_type": "code",
      "metadata": {},
      "source": [
        "\"\"\"\n",
        "One Dimensional free-fall Euler Code\n",
        "\n",
        "PH150\n",
        "Brother Nelson\n",
        "\n",
        "\n",
        "This code will calculate the exact solution for a ball in free fall\n",
        "having been shot straight up using Euler's method.\n",
        "\n",
        "\"\"\"\n",
        "#Import numerical and plotting packages\n",
        "import numpy as np\n",
        "import matplotlib.pyplot as plt"
      ],
      "execution_count": null,
      "outputs": []
    },
    {
      "cell_type": "markdown",
      "metadata": {},
      "source": [
        "Everything inside the triple quotes (\"\"\") counts as one long comment.  If you ever need to add comments that will take more than one line, you can start and end it with \\\"\\\"\\\".  It's a great way to leave yourself notes about what each program does.  Below the introductory comment,  numpy and matplotlib are imported to do the number crunching and plotting later on.\n",
        "\n",
        "This next part sets up all of the constants and inputs.  It's a good idea to put it at the beginning of the program so that they are easy to change."
      ]
    },
    {
      "cell_type": "code",
      "metadata": {},
      "source": [
        "#Initial conditions and physical setup constants\n",
        "v0=30.0 #Initial velocity in m/s\n",
        "x0=70 #Initial Postion in m\n",
        "\n",
        "#Set up the time steps and number of calculations\n",
        "delta_t = 0.01 #Time step in seconds\n",
        "t0=0 #Start time in seconds\n",
        "t_max = 7.0 #Final time"
      ],
      "execution_count": null,
      "outputs": []
    },
    {
      "cell_type": "markdown",
      "metadata": {},
      "source": [
        "The part with `x0` and `v0` are the starting position and velocity.  `delta_t` is time step or amount of time that will advance for each calculation.  Remember, Euler's method works by assuming that acceleration is roughly constant over short time intervals.  `delta_t` sets that time interval.\n",
        "\n",
        "With initial values defined, the number of calculations that will be needed can be determined.  Here's the piece of code that does that:"
      ]
    },
    {
      "cell_type": "code",
      "metadata": {},
      "source": [
        "#Calculate the number of timesteps we need to make\n",
        "N=(t_max-t0)/delta_t\n",
        "#Make sure N is an integer\n",
        "N=int(N)"
      ],
      "execution_count": null,
      "outputs": []
    },
    {
      "cell_type": "markdown",
      "metadata": {},
      "source": [
        "Python keeps two types of numbers: _Floats_ - numbers with decimal points and _Integers_ - whole numbers. For example: $2.0$ is a float, $2$ is an integer.  Even though they have the same value, Python sees them as different things. You can only get an item from a list using an integer. (`myList[2]` works, but `myList[2.0]` won't).  The command `N=int(N)` takes whatever number `N` is and converts it to an integer.  The `int` command truncates instead of rounding, so `int(2.9)` becomes `2`, not `3`.\n",
        "\n",
        "\n",
        "Next, lists that will eventually store **all of the positions, velocities, and times** are initialized.  Putting square brackets around something tells Python that it is a list.  Since more x,v, and t values are going to be added later, we need to warn Python that these are going to be lists.  Initially, these lists only contain the initial values."
      ]
    },
    {
      "cell_type": "code",
      "metadata": {},
      "source": [
        "#Make lists to hold our positions, velocities, and times\n",
        "x=[x0]\n",
        "v=[v0]\n",
        "t=[t0]"
      ],
      "execution_count": null,
      "outputs": []
    },
    {
      "cell_type": "markdown",
      "metadata": {},
      "source": [
        "This next section of code is what is called a loop:"
      ]
    },
    {
      "cell_type": "code",
      "metadata": {},
      "source": [
        "#| eval: False\n",
        "#Now perform an Euler's method calculation.\n",
        "for i in range(N):\n",
        "    #Find the current acceleration\n",
        "    a=-9.8\n",
        "    \n",
        "   # Store the new position, velocity, and time in the lists\n",
        "   v.append(v[i] + a * delta_t)\n",
        "   y.append(y[i] + v[i] * delta_t)\n",
        "   t.append(t[i] + delta_t)\n",
        "\n",
        "#End of Euler loop =========================================\n"
      ],
      "execution_count": null,
      "outputs": []
    },
    {
      "cell_type": "markdown",
      "metadata": {},
      "source": [
        "#### Breaking down the while loop\n",
        "For most of you, a loop will be a new idea. Loops are very helpful when you need to tell a computer to do something over and over again.  Here's the general structure:"
      ]
    },
    {
      "cell_type": "code",
      "metadata": {},
      "source": [
        "#| eval: False\n",
        "for <Thing that Changes>:\n",
        "     Stuff the computer does to/with the thing that changes\n",
        "\n",
        "Not part of the loop"
      ],
      "execution_count": null,
      "outputs": []
    },
    {
      "cell_type": "markdown",
      "metadata": {},
      "source": [
        "The code that gets inserted at: `<Thing that Changes>` should be a list of items that are to be iterated over.   As an example, consider a famous mathematical sequence of numbers called the Fibonacci sequence. The first few numbers in the Fibonacci sequence are: [1,1,2,3,5,8,13] (Can you see the pattern). A loop to iterate over this list of numbers is shown below:"
      ]
    },
    {
      "cell_type": "code",
      "metadata": {},
      "source": [
        "fibonacci = [1,1,2,3,5,8,13]\n",
        "for num in fibonacci:\n",
        "    print(num)\n",
        "\n",
        "print(fibonacci)"
      ],
      "execution_count": null,
      "outputs": []
    },
    {
      "cell_type": "markdown",
      "metadata": {},
      "source": [
        "When this code is executed, the sequence of numbers first gets stored in the variable `fibonacci`.  The `for num in fibonacci` tells Python to look at each thing in the list one by one, and call it `num`, each in turn.  Therefore, this program would first print 1, then 1 (again), then 2, etc.  Once all of the numbers have been printed one at a time, the final command will execute and print the entire list.  This last statement won't execute until the loop has successfully iterated over everything in the list named `fibonacci`.\n",
        "\n",
        "Now let's look at the `for` statement in the Euler's code: `i in range(N)`.  The `range(N)` command makes a list of integers from zero to `N-1`.  If `N` was five, `range(N)` would be `[0,1,2,3,4]`.  Therefore, the first time through the for loop `i=0`, the second time `i=1`, and so on until we reach `N-1`.\n",
        "\n",
        "Now let's look at the inside of the loop:"
      ]
    },
    {
      "cell_type": "code",
      "metadata": {},
      "source": [
        "#| eval: False\n",
        "    #Find the current acceleration\n",
        "    a=-9.8\n",
        "    \n",
        "   # Store the new position, velocity, and time in the lists\n",
        "   v.append(v[i] + a * delta_t)\n",
        "   y.append(y[i] + v[i] * delta_t)\n",
        "   t.append(t[i] + delta_t)"
      ],
      "execution_count": null,
      "outputs": []
    },
    {
      "cell_type": "markdown",
      "metadata": {},
      "source": [
        "This is where  Euler's method is found.  First the acceleration is calculated, which is a constant -9.8 in this case but usually will be a function of time, position, and/or velocity. Then next statement involves an `append` statement:"
      ]
    },
    {
      "cell_type": "code",
      "metadata": {},
      "source": [
        "#| eval: False\n",
        "   v.append(v[i] + a * delta_t)"
      ],
      "execution_count": null,
      "outputs": []
    },
    {
      "cell_type": "markdown",
      "metadata": {},
      "source": [
        "The `append` statement is used to add something to the end of a list. In this case, the statement `v.append(v[i]+a*delta_t)` adds `v[i]+a*delta_t` to the end of the list named `v`.   This is nothing more than the kinematic equation $v_f=v_i+a\\Delta t$, using `v[i]` as $v_i$ to calculate the \"final\" velocity.  Each time the computer goes through the loop, a different value for `i` is used, and therefore a different value for `v[i]`.  If the list starts with just one value in it (`v=[0]`), then by the end of the first iteration there are two things in the list. (The same can be said for the position and time lists) \n",
        "\n",
        "The first few iterations of this loop are done by hand and placed in the table below to help you see exactly what the loop is doing.\n"
      ]
    },
    {
      "cell_type": "code",
      "metadata": {},
      "source": [
        "#| eval: True\n",
        "#| echo: False\n",
        "#| output: True\n",
        "from pandas import DataFrame\n",
        "import numpy as np\n",
        "t = [0]\n",
        "y = [70]\n",
        "v = [30]\n",
        "dt = 0.1\n",
        "for i in range(3):\n",
        "    a = -9.8\n",
        "    y.append(y[-1] + v[-1] * dt)\n",
        "    v.append(v[-1] + a * dt)\n",
        "    t.append(t[-1] + dt)\n",
        "\n",
        "df = DataFrame(np.transpose([t,y,v]),columns = [\"time\", r\"$$y_f = y_i + v_i \\Delta t$$\", r\"$$v_f = v_i + a \\Delta t$$\"])\n",
        "display(df)"
      ],
      "execution_count": null,
      "outputs": []
    },
    {
      "cell_type": "markdown",
      "metadata": {},
      "source": [
        "Velocity can be used to calculate the position using the kinematic equation $x_f=x_i+v_i\\Delta t+\\frac{1}{2}a\\Delta t^2$.  The term $\\frac{1}{2}a\\Delta t^2$ is neglected because if $\\Delta t$ is small then $\\Delta t^2$ will be very small, making this entire term inconsequential. Once the loop is finished, the program just builds a plot of the data:"
      ]
    },
    {
      "cell_type": "code",
      "metadata": {},
      "source": [
        "#| eval: False\n",
        "#Plot the results\n",
        "plt.plot(t,x,linewidth=2,color='red')\n",
        "plt.xlabel('time (s)')\n",
        "plt.ylabel('Position (m)')\n",
        "plt.title('Position vs. time for a ball in free fall')"
      ],
      "execution_count": null,
      "outputs": []
    },
    {
      "cell_type": "markdown",
      "metadata": {},
      "source": [
        "### Air Drag\n",
        "This week we will be using Euler's method to predict the fall time for an object experiencing a non-negligible amount of drag.  The drag force acting on a falling object is given by:\n",
        "\n",
        "$$F_D =  {1\\over 2} \\; C \\rho A v^2 \\;\\;\\;\\;\\;(1) $$  \n",
        "\n",
        "where $C$ is the drag coefficeint and has the following values:\n",
        "       0.5 for a sphere and 0.3 for a cone.\n",
        "       \n",
        "$\\rho$ is the air density and has a value of 1.02  kg/m$^3$ in Rexburg\n",
        "\n",
        "A is the cross-sectional area\n",
        "\n",
        "v is the velocity of the object\n",
        "\n",
        "<div style=\"text-align: center;\">\n",
        "<img src=\"https://github.com/lancejnelson/PH121/raw/gh-pages/files/numericalHW/fbd.png\" alt=\"drawing\" width=\"125px\"/>\n",
        "</div>\n",
        "\n",
        "\n",
        "\n",
        "Applying Newton's second law to the free-body diagram shown above gives:\n",
        "\n",
        "$$ \\Sigma F_{y} = -mg + F_{D} = ma_{y} \\;\\;\\;\\;\\;(2) $$\n",
        "\n",
        "\n",
        "Solving for the acceleration in the y-direction gives:\n",
        "\n",
        "$$ a_y = {d v_y \\over dt} = \\frac{ C \\rho A v^{2}}{2m} - g \\;\\;\\;\\;\\;(3)$$\n",
        "\n",
        "Notice that this expression for the acceleration is not constant; it changes as $v$ changes.  The kinematic equations can be used to update the position and velocity\n",
        "$$ y_{n+1} = y_{n} + v_{n} \\cdot \\Delta t \\;\\;\\;\\;\\;(5)$$\n",
        "\n",
        "$$ v_{n+1} = v_{n} + a_{n} \\cdot \\Delta t \\;\\;\\;\\;\\;(6)$$\n",
        "\n",
        "$$ = v_{n} + ({C \\rho A v^2 \\over 2 m} - g) \\cdot \\Delta t \\;\\;\\;\\;\\;(6)$$\n",
        "\n",
        "\n",
        "## Python skills\n",
        "In this lab you will need to use programming loops to use Euler's method. _Loops_ allow programs to rerun the same block of code multiple times.  This might seem like a funny thing to want to do but it turns out that there are many important tasks that are repetitive in nature (perhaps with small changes for each successive repetition).  A loop provides a succinct and efficient way to perform tasks of this nature.\n",
        "\n",
        "### For loop\n",
        "The `for` loop is probably the most common loop you will encounter and is a good choice when you know beforehand exactly what things you want to loop over.  Here is an example of a `for` loop that is used to add up the elements of a list."
      ]
    },
    {
      "cell_type": "code",
      "metadata": {},
      "source": [
        "thesum = 0\n",
        "for i in [3,2,1,9.9]: \n",
        "    thesum += i"
      ],
      "execution_count": null,
      "outputs": []
    },
    {
      "cell_type": "markdown",
      "metadata": {},
      "source": [
        " This would be equivalent to the following code:"
      ]
    },
    {
      "cell_type": "code",
      "metadata": {},
      "source": [
        "thesum = 0\n",
        "\n",
        "thesum = thesum + 3\n",
        "thesum = thesum + 2\n",
        "thesum = thesum + 1\n",
        "thesum = thesum + 9.9"
      ],
      "execution_count": null,
      "outputs": []
    },
    {
      "cell_type": "markdown",
      "metadata": {},
      "source": [
        "which isn't that much longer than using a loop.  However, as the list gets longer and/or the mathematical operations being performed get more complex the second method would get unreasonably long.\n",
        "\n",
        "\n",
        "The correct language is to say that we are _iterating_ over the list `[3,2,1,9.9]`.  This\n",
        "means that the loop variable (`i` in this case but you can choose it to be whatever you want) gets assigned\n",
        "the values of the list elements, one by one, until it reaches the end\n",
        "of the list.  You can use `for` loops to iterate over any multi-element object like lists or tuples.  Python uses indentation to indicate\n",
        "where the loop ends. In this case there was only one statement inside to loop, but if you wanted more than one each line should be indented.  \n",
        "\n",
        "\n",
        "Often you will want to iterate over a list of integers. The `range` function is a good choice for this. The range function takes up to 3 arguments. The first is the starting number, the second is the ending number, and the third is the step size.\n",
        "\n",
        "`range(start,stop,stepsize)`\n"
      ]
    },
    {
      "cell_type": "code",
      "metadata": {},
      "source": [
        "for i in range(5,50,3):  #Generates a list from 5 -> 50 with a step size of 3\n",
        "    print(i)"
      ],
      "execution_count": null,
      "outputs": []
    },
    {
      "cell_type": "markdown",
      "metadata": {},
      "source": [
        "These examples are so simple that you might wonder when a loop might\n",
        "actually be useful to you.  Let's see if we can build a loop to\n",
        "calculate the following sum\n",
        "\n",
        "$$ \\sum_{n=1}^{1000} {1\\over n^2}$$ {#eq-sum}"
      ]
    },
    {
      "cell_type": "code",
      "metadata": {},
      "source": [
        "theSum = 0\n",
        "for n in range(1,1000):\n",
        "    theSum = theSum + 1/n**2\n",
        "print(theSum)"
      ],
      "execution_count": null,
      "outputs": []
    },
    {
      "cell_type": "markdown",
      "metadata": {},
      "source": [
        "Here, `n` is being assigned the values\n",
        "`1,2,3,4....1000`, one by one, until it gets all the way to\n",
        "1000.  Each time through the loop, `n` is different\n",
        "and the expression `1/n**2` evaluates to a new value.  The\n",
        "variable `theSum` is updated each time through to be the\n",
        "running total of all calculations performed thus far.  Here's another\n",
        "example of a loop used to calculate the value of $20!$:"
      ]
    },
    {
      "cell_type": "code",
      "metadata": {},
      "source": [
        "theProduct = 1\n",
        "for n in range(1,21):\n",
        "    theProduct = theProduct * n #Multiply theProduct by n\n",
        "print(theProduct)"
      ],
      "execution_count": null,
      "outputs": []
    },
    {
      "cell_type": "markdown",
      "metadata": {},
      "source": [
        "Remember that the range function creates a list starting at $1$, going\n",
        "up to $21$ but not including it. The math library has a function\n",
        "called `factorial` that does the same thing.  Let's use it to\n",
        "check our answer:"
      ]
    },
    {
      "cell_type": "code",
      "metadata": {},
      "source": [
        "from math import factorial\n",
        "factorial(20)"
      ],
      "execution_count": null,
      "outputs": []
    },
    {
      "cell_type": "markdown",
      "metadata": {},
      "source": [
        "### Boolean logic inside loops\n",
        "\n",
        "Often when using loops, we only want a block of code to execute when some condition is satisfied.\n",
        "We can use boolean logic inside of the loop to accomplish this. For example, let's write a loop to compute the following sum:\n",
        "\n",
        "$$ \\sum_{{n\\over 5} \\in \\text{ Int and } {n\\over 3} \\in \\text{ Int}} {1\\over n^2} $$\n",
        "\n",
        "which is similar to the one we did above, but this time  we only want to include terms where $n$ is a perfect multiple of both 5 and 3. To check to see if `n` is a perfect multiple of a number we can calculate the modulo (remainder after division) using the `%` operator and check that it is equal to zero."
      ]
    },
    {
      "cell_type": "code",
      "metadata": {},
      "source": [
        "theSum = 0\n",
        "for n in range(1,1000):\n",
        "    if n % 5 == 0 and n % 3 == 0:\n",
        "        theSum = theSum + 1/n**2\n",
        "print(theSum)"
      ],
      "execution_count": null,
      "outputs": []
    },
    {
      "cell_type": "markdown",
      "metadata": {},
      "source": [
        "## Activity I: Minimum Fall Time\n",
        "\n",
        "### Goal (Overview)\n",
        "Using kinematics, calculate the time it takes for a particle to fall, starting from rest, through a distance of $6$ meters, neglecting air drag. This number will serve as a point of comparison when we include air drag in our analysis.\n",
        "\n",
        "\n",
        "### Procedure\n",
        "1. The kinematic equations are given below.\n",
        "$$y_f = y_i + v_i \\Delta t + {1\\over 2}a \\Delta t^2$$  $$v_f = v_i + a \\Delta t$$  $$v_f^2 = v_i^2 + 2 a \\Delta x$$ \n",
        "Use these equations to calculate the time it takes for a particle to fall through a distance of $6.0$ meters starting from rest. Neglect air resistance.  Show your math and calculations below.\n",
        "\n",
        "> Include kinematic details here"
      ]
    },
    {
      "cell_type": "code",
      "metadata": {},
      "source": [
        "# Code to perform calculations here"
      ],
      "execution_count": null,
      "outputs": []
    },
    {
      "cell_type": "markdown",
      "metadata": {},
      "source": [
        "## Activity II: Modeling the motion using Euler's method\n",
        "\n",
        "### Goal (Overview)\n",
        "Write some python code that will accurately predict the fall time for a projectile that is experiencing air resistance.  \n",
        "\n",
        "### Procedure\n",
        "1. Together in class we constructed a model for a particle that is thrown upward and experiences no air resistance.  Use equations 3-6 above to modify that code to include air resistance.  Set $\\rho = 1.02$ kg/m$^3$, $C = 0.5$ and make reasonable guesses for the values of $A$ and $m$. We'll fine tune these values later.\n",
        "2. Modify the code to model a particle that is dropped from rest rather than thrown upward initially.\n",
        "3. Your value for $\\Delta t$ will need to be reasonably small to get accurate results.  Decrease your value of $\\Delta t$ until the results stop changing.\n",
        "4. As a test of the correctness of your code, increase the initial height of the projectile and verify that the drop time changes as you would expect. \n",
        "5. As a test of the correctness of your code, increase the mass of the projectile and verify that the drop time changes as you would expect.\n",
        "6. As a test of the correctness of your code, decrease the drag constant of the projectile and verify that the drop time changes as you would expect. \n"
      ]
    },
    {
      "cell_type": "code",
      "metadata": {},
      "source": [
        "#| eval: false\n",
        "#| echo: true\n",
        "# Import from libraries\n",
        "from numpy import pi\n",
        "\n",
        "\n",
        "# Define constants\n",
        "\n",
        "# Set initial conditions\n",
        "\n",
        "# Loop to calculate flight time using Euler's method\n",
        "while # Put your stopping condition here:\n"
      ],
      "execution_count": null,
      "outputs": []
    },
    {
      "cell_type": "markdown",
      "metadata": {},
      "source": [
        "## Activity III: Predicting times\n",
        "\n",
        "### Procedure\n",
        "1. Make mass and diameter measurements on each of the objects given to you. \n",
        "2. Then use the code you wrote above to  predict the drop times for each of the six objects dropped from a height of 16.92 m.\n",
        "3. Fill in the table below with your predictions. \n",
        "4. After the table is filled out, run some tests in the lab room to verify the accuracy of your model.\n",
        "\n",
        "|Object | Precited fall time (s)|\n",
        "|-------|-----------------------|\n",
        "|Ping Pong Ball |               |\n",
        "|Styrofoam cone |               |\n",
        "|Styrofoam sphere (small) |               |\n",
        "|Styrofoam sphere (medium) |               |\n",
        "|Beach ball |               |\n",
        "\n",
        "\n",
        "\n",
        "\n",
        "## Activity IV: Comparison of Predicted and Measured Times\n",
        "Each group will measure the time of flight for the five objects. Average the time measurements for each object and compare to your predicted values. \n",
        "\n",
        "The percent difference is calculated as:\n",
        "\n",
        "$$ \\text{% diff} = {\\text{measured} - \\text{predicted} \\over \\text{measured} } \\times 100 \\text{%}$$\n",
        "\n",
        "|Object | Precited fall time (s)|  Average measured fall Time (s)| % Error|\n",
        "|-------|-----------------------|-----------------|--------|\n",
        "|Ping Pong Ball |               | | |\n",
        "|Styrofoam cone |               | | |\n",
        "|Styrofoam sphere (small) |               | | |\n",
        "|Styrofoam sphere (medium) |               | | |\n",
        "|Beach ball |               | | |\n",
        "\n",
        "\n",
        "Your score on the lab will be based on your % error for the five different objects.\n",
        "\n",
        "\n",
        "If any of your % differences are greater than 10%, give a possible explanation for the discrepancy.\n",
        "> **Response:**\n",
        "\n",
        "\n",
        "Note: Use the cell below to calculate the averages and percent error. I have started the code but it is not complete. You'll have to finish it."
      ]
    },
    {
      "cell_type": "code",
      "metadata": {},
      "source": [
        "#| eval: false\n",
        "#| echo: true\n",
        "\n",
        "from scipy.stats import mean\n",
        "\n",
        "\n",
        "pingPong = []  \n",
        "cone = []\n",
        "smallBall = []\n",
        "mediumBall = []\n",
        "beachBall = []\n",
        "\n",
        "\n",
        "mean_pingpong = mean(pingPong)"
      ],
      "execution_count": null,
      "outputs": []
    }
  ],
  "metadata": {
    "kernelspec": {
      "display_name": "Python 3",
      "language": "python",
      "name": "python3"
    }
  },
  "nbformat": 4,
  "nbformat_minor": 4
}