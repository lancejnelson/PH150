{
  "cells": [
    {
      "cell_type": "markdown",
      "metadata": {},
      "source": [
        "# Lab 5: Experimental Design I {-}\n",
        "\n",
        "Name:"
      ]
    },
    {
      "cell_type": "markdown",
      "metadata": {},
      "source": [
        "## Activity I- Conduct the expriment (mass-spring system)\n",
        "Follow all of the steps outlined above to perform a high-quality experiment involving a mass-spring system. Since this is your first time, an outline of the steps will be provided below.\n",
        "\n",
        "1. Identify the system being studied. List all relevant variables.\n",
        "\n",
        " > Your response:\n",
        "\n",
        "2. Identify the hypothesis or model that you will test.  Provide both a verbal description of this model **and** and mathematical equation. (use $\\LaTeX$)\n",
        "\n",
        " > Your response:\n",
        "\n",
        "3. How will you know if your experiment is successful?\n",
        "\n",
        " > Your response:\n",
        "\n",
        "4. Plan your analysis. Address all five questions mentioned above.\n",
        "\n",
        " > Your response:\n",
        "\n",
        "5. Choose reasonable ranges for the pertinent variables in your experiment.\n",
        "\n",
        " > Your response:\n",
        "\n",
        "6. Plan the experimental procedure.\n",
        "\n",
        " > Your response:\n",
        "\n",
        "7. Carry out the experiment and report your results. Include all data collected, plots constructed and give evidence for or against your hypothesis.  Data should be placed in a table of some kind.  You can either use a markdown table in a text cell or a Pandas dataframe to display the data.  Make sure you accomplish everything mentioned in step 4 above.\n",
        "\n",
        " > Your response:"
      ]
    },
    {
      "cell_type": "code",
      "execution_count": null,
      "metadata": {},
      "outputs": [],
      "source": [
        "# Perform calculations and construct plots here."
      ]
    }
  ],
  "metadata": {
    "kernelspec": {
      "display_name": "Python 3",
      "language": "python",
      "name": "python3"
    }
  },
  "nbformat": 4,
  "nbformat_minor": 4
}
