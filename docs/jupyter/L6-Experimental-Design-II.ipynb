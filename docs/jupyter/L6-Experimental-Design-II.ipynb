{
  "cells": [
    {
      "cell_type": "markdown",
      "metadata": {},
      "source": [
        "# Lab 6 Experimental Design II {-}\n",
        "\n",
        "Name:\n",
        "\n",
        "\n",
        "## Activity I (standing waves)\n",
        "Design and carry out an experiment involving standing waves on a string.  Record your work below.\n",
        "\n",
        "1. Identify the system being studied. List all relevant variables.\n",
        "\n",
        " > Your response:\n",
        "\n",
        "2. Identify the hypothesis or model that you will test.  Provide both a verbal description of this model **and** and mathematical equation. (use $\\LaTeX$)\n",
        "\n",
        " > Your response:\n",
        "\n",
        "3. How will you know if your experiment is successful?\n",
        "\n",
        " > Your response:\n",
        "\n",
        "4. Linearize your equation if possible.\n",
        "\n",
        " > Your response:\n",
        "\n",
        "5. Choose reasonable ranges for the pertinent variables in your experiment.\n",
        "\n",
        " > Your response:\n",
        "\n",
        "6. Plan the experimental procedure.\n",
        "\n",
        " > Your response:\n",
        "\n",
        "7. Carry out the experiment and report your results. Include all data collected, plots constructed and give evidence for or against your hypothesis.  Data should be placed in a table of some kind.  You can either use a markdown table in a text cell or a Pandas dataframe (see activity I from lab 2 for a refresher) to display the data.\n",
        "\n",
        " > Your response:"
      ]
    },
    {
      "cell_type": "code",
      "execution_count": null,
      "metadata": {},
      "outputs": [],
      "source": [
        "# Perform calculations and construct plots here."
      ]
    },
    {
      "cell_type": "markdown",
      "metadata": {},
      "source": [
        "## Activity II (Proposal)\n",
        "Work on your research proposal. They are due in two weeks."
      ]
    }
  ],
  "metadata": {
    "kernelspec": {
      "display_name": "Python 3",
      "language": "python",
      "name": "python3"
    }
  },
  "nbformat": 4,
  "nbformat_minor": 4
}
