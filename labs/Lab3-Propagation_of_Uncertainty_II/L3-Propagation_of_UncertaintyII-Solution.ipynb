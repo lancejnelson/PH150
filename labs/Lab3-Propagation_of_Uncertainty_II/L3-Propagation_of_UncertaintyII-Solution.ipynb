{
 "cells": [
  {
   "cell_type": "markdown",
   "metadata": {},
   "source": [
    "# Lab 3: Propagation of Uncertainty Part II {-}\n",
    "\n",
    "Name: "
   ]
  },
  {
   "cell_type": "markdown",
   "metadata": {},
   "source": [
    "## Activity I:  Exit Speed (50 pts)\n",
    "### Equipment needed:\n",
    "1. Cannon and plunger\n",
    "2. Spherical steel ball (projectile)\n",
    "3. Meter Stick\n",
    "\n",
    "### Goal:  \n",
    "Determine the speed with which the projectile leaves the cannon for all three launch settings with their associated uncertainties.  \n",
    "\n",
    "### Procedure:  \n",
    "  1. Set your cannon on the floor or table and set the launch angle to $90^\\circ$ (straight up)\n",
    "  2. Measure the distance from where the sphere exits the launcher to the peak of its trajectory.  Record the value and the uncertainty in the code cell provided below.\n",
    "  3. In the cell below, record the best value of \"g\" from the previous lab with its associated uncertainty.\n",
    "  4. You may remember the following kinematic equation: $$ v_f^2 = v_i^2 - 2 g h$$.   Do the algebra needed to solve this equation for $v_i$. Use $\\LaTeX$ syntax to complete the equation below $$v_i = \\sqrt{v_f^2 + 2 g h}$$\n",
    "  5. On line 8 of the code cell below, define sympy symbols for g and delta_h. \n",
    "  6. On line 9 of the code cell below, enter the expression you found in step 4 for the initial velocity. To calculate a square root, use `sp.sqrt()`\n",
    "  7. To calculate the uncertainty in the initial velocity, you need to take two derivatives of the function that you found in step 4; ${\\partial v_i \\over \\partial g}$ and ${\\partial v_i \\over \\partial h}$.  Use $\\LaTeX$ syntax to complete the mathematical statements below with the expressions for these derivatives. $${\\partial v_i \\over \\partial g} = {h\\over \\sqrt{v_f^2 + 2 g h}}$$ $${\\partial v_i \\over \\partial h} = {g\\over \\sqrt{v_f^2 + 2 g h}}$$\n",
    "  8. On lines 11 and 12 of the code cell below, use sympy to calculate the derivatives of vi with respect to g and h. \n",
    "  9. On lines 16 of the code cell below, substitute values for the symbols to get a value for the initial velocity.\n",
    "  10. Now execute the cell below and compare python's derivatives to your hand-written ones. (You may need to comment out some lines that haven't been completed yet)\n",
    "  11. The expression for the uncertainty for $v_i$ is  $$ \\delta v_i =  \\sqrt{({\\partial v_i \\over \\partial g} \\delta g)^2 + ({\\partial v_i \\over \\partial h} \\delta h)^2}$$  Perform this calculation on line 17 in the code cell below to obtain a value for the uncertainty in $v_i$.  \n",
    "  12. Add a formatted print statement to display the initial velocity and its associated uncertainty (with units)."
   ]
  },
  {
   "cell_type": "code",
   "execution_count": 2,
   "metadata": {
    "tags": []
   },
   "outputs": [
    {
     "data": {
      "text/latex": [
       "$\\displaystyle \\frac{\\sqrt{2} \\sqrt{dh g}}{2 g}$"
      ],
      "text/plain": [
       "sqrt(2)*sqrt(dh*g)/(2*g)"
      ]
     },
     "metadata": {},
     "output_type": "display_data"
    },
    {
     "data": {
      "text/latex": [
       "$\\displaystyle \\frac{\\sqrt{2} \\sqrt{dh g}}{2 dh}$"
      ],
      "text/plain": [
       "sqrt(2)*sqrt(dh*g)/(2*dh)"
      ]
     },
     "metadata": {},
     "output_type": "display_data"
    },
    {
     "name": "stdout",
     "output_type": "stream",
     "text": [
      "4.94974746830583 0.139541669586616\n"
     ]
    }
   ],
   "source": [
    "#| eval: false\n",
    "#| echo: true\n",
    "import sympy as sp\n",
    "# Launch Parameters\n",
    "h =   1.25        # distance from exit point to peak\n",
    "un_h = 0.03       # uncertainty of the distance\n",
    "g_val =  9.8         # acceleration due to gravity (refer to last week's results)\n",
    "un_g =  0.5      # uncertainty in g (refer to last week's results)\n",
    "\n",
    "g,dh = sp.symbols(\"g dh\")       # define sympy symbols for g and delta_h (Line 8)\n",
    "vi =  sp.sqrt(2 * g * dh)        # Calculate the initial speed (Line 9). \n",
    "\n",
    "dvdg = sp.diff(vi,g)  # Take the derivative with respect to g  (Line 11)\n",
    "dvdh = sp.diff(vi,dh) # Take the derivative with respect to h (distance to peak) (Line 12)\n",
    "display(dvdg)  # Display the derivatives to check that you did it right.\n",
    "display(dvdh)\n",
    "\n",
    "initialV = sp.N(vi.subs({g:g_val,dh:h}))# Substitute numbers in for the symbols.  (line 16)\n",
    "Δvi =  sp.N(sp.sqrt((dvdg.subs({g:g_val,dh:h}) * un_g)**2 + (dvdh.subs({g:g_val,dh:h}) * un_h)**2))# Line 17\n",
    "\n",
    "# Add a formatted print statement here to display your results.\n",
    "print(initialV, Δvi)"
   ]
  },
  {
   "cell_type": "markdown",
   "metadata": {},
   "source": [
    "## Activity II - Projectile Motion Prediction (50 points)\n",
    "\n",
    "### Equipment needed\n",
    "1. Launcher Cannon\n",
    "2. Spherical Steel Projectile\n",
    "3. Meter Stick\n",
    "\n",
    "### Goal\n",
    "Predict the landing location for a launched projectile with its associated uncertainty.  Verify that observed results agree with your prediction to within your stated uncertainty.\n",
    "\n",
    "### Procedure\n",
    "#### Setup\n",
    "1. Set your cannon on a table and aim it in a direction so that the projectile won't hit anything (or anyone).\n",
    "2. Choose an initial launch angle and speed setting. Then adjust your cannon to match these choices.  Record your launch angle with its associated uncertainty (in radians) in the code cell below.\n",
    "3. Transfer the initial velocity and uncerainty that you found from activity I into the code cell below.\n",
    "4. Measure the distance from the ground to the projectile's point of exit.  Record this number with its associated uncertainty in the code cell below.  \n",
    "5. On line 14 of the code cell below, define symbols for the variables $v_i$, $y_i$, $\\theta$,$g$, and $t$.\n",
    "6. On line 15 of the code cell below, define a dictionary containing the substitution rules for $v_i$, $y_i$, $\\theta$, and $g$.\n",
    "\n",
    "#### Calculations\n",
    "7. You may recall the following kinematic equations from your PH121 class.   $$x_f = x_i + v_i \\cos(\\theta) t$$ $$y_f = y_i + v_i \\sin(\\theta) t -{1\\over 2} g  t^2$$ Use the second of these equations to find an expression for the projectile's flight time in terms of $y_i$, $v_i$, $\\theta$,  and $g$. Use $\\LaTeX$ syntax to complete the equation below with your answer. **Hint:** You will have to solve a quadratic equation.$$ t = {-v_i \\sin(\\theta) \\pm \\sqrt{v_i^2 \\sin^2(\\theta) + 2 g y_i}\\over -g}$$\n",
    "8. Enter the expression that you found in part 5 on line 18 of the code cell below. Use `sp.sqrt()` for square root expressions and `sp.sin()` for sine expressions.   \n",
    "9. On line 19 of the code cell, substitute values for $v_i$, $y_i$, $\\theta$, and $g$ to obtain a value for the flight time.\n",
    "10. To find the uncertainty in the flight time, you'll need to evaluate four partial derivatives: ${\\partial t \\over \\partial v_i}$, ${\\partial t \\over \\partial \\theta}$, ${\\partial t \\over \\partial g}$, and ${\\partial t \\over \\partial y_i}$. We'll let python calculate these derivatives (don't do them by hand!), following the same pattern shown in activity I. Fill in lines 21 - 24 in the code cell below with the appropriate code to calculate the four relevant derivatives. (They will look similar to lines 11 and 12 from the code cell above.)\n",
    "11. The expression for the uncertainty in the flight time is given by:$$ \\delta t = \\sqrt{({\\partial t \\over \\partial v_i} \\delta v_i)^2 + ({\\partial t \\over \\partial \\theta} \\delta \\theta)^2 + ({\\partial t \\over \\partial y_i} \\delta y_i)^2 + ({\\partial t \\over \\partial g} \\delta g)^2}$$  Fill in line 27 in the code cell below with the appropriate code to calculate this expression. (It will be similar to line 17 from the code cell above)\n",
    "12. Now that you have the flight time with its uncertainty, you can use the first kinematic equation from above to calculate the projectile's landing location.   Use $\\LaTeX$ syntax to complete an expression for the landing location $x_f$ in terms of $v_i$, $\\theta$, and $t$.  $$x_f = v_i \\cos(\\theta) t$$\n",
    "13. Enter the expression that you found in part 9 on line 33 of the code cell below.\n",
    "14. On line 34 of the code cell, substitute values for $v_i$, $y_i$, $\\theta$, $g$, and $t$ to obtain a value for the landing location.\n",
    "15. To find the uncertainty in the landing location, you'll need to evaluate three partial derivatives: ${\\partial x_f \\over \\partial v_i}$, ${\\partial x_f \\over \\partial \\theta}$, and ${\\partial x_f \\over \\partial t}$. We'll let python calculate these derivatives, following the same pattern from activity I. Fill in lines 36 - 38 in the code cell below with the appropriate code to calculate the three relevant derivatives.(They will look similar to lines 11 and 12 from the code cell above.)\n",
    "16. The expression for the uncertainty in the landing location:$$ \\delta x_f = \\sqrt{({\\partial x_f \\over \\partial v_i} \\delta v_i)^2 + ({\\partial x_f \\over \\partial \\theta} \\delta \\theta)^2 + ({\\partial x_f \\over \\partial t} \\delta t)^2}$$  Fill in line 43 in the code cell below with the appropriate code to calculate this expression. (It will be similar to line 17 from the code cell above)\n",
    "17. Add formatted print statements to display the flight time and landing location with their associated uncertainties (include units).\n",
    "18. Evaluate the code cell below and observe the results.  By experimenting with the uncertainties in measured values, can you determine which variable has the greatest affect on the uncertainty in the projectile's landing location?  \n"
   ]
  },
  {
   "cell_type": "code",
   "execution_count": 12,
   "metadata": {},
   "outputs": [
    {
     "name": "stdout",
     "output_type": "stream",
     "text": [
      "The flight time is  0.77 +-  0.01 seconds.\n",
      "The landing location is  3.25 +-  0.10 meters.\n"
     ]
    }
   ],
   "source": [
    "#| eval: false\n",
    "#| echo: true\n",
    "import sympy as sp\n",
    "from matplotlib import pyplot as plt\n",
    "import numpy as np\n",
    "\n",
    "initialV = 4.9            # Initial speed of projectile.  \n",
    "δ_vi =     0.1     # Uncertainty in initial speed of projectile.\n",
    "theta =    30 * np.pi/180        # Launch angle (Must be in Radians!!)\n",
    "δ_θ =      1 * np.pi/180   # Uncertainty in launch angle (Must be in radians)\n",
    "h =        .25    # Initial height of projectile (meters).\n",
    "δ_h =      .01   # Uncertainty in intial height (meters).\n",
    "grav =     9.8       # Acceleration due to gravity (m/s^2). (Use value obtained in previous lab)\n",
    "δ_g =      0.3   # Uncertainty in acceleration due to gravity (m/s^2)\n",
    "\n",
    "vi,θ,yi,g,t = sp.symbols(\"vi θ yi g t\") # Define the symbols you'll need. (Line 14)\n",
    "values = {vi:initialV, θ:theta, yi:h, g:grav}# Define the dictionary with the substitution rules (Line 15)\n",
    "\n",
    "\n",
    "time =    sp.sqrt((-vi * sp.sin(θ) - sp.sqrt(vi**2 * sp.sin(θ)**2 + 2 * g * yi))/(-g))    # Line 18 ** Use the - solution in the quadratic formula\n",
    "tFlight=  time.subs(values) # Substitute values to obtain a number for the flight time. (Line 19)\n",
    "\n",
    "dtdv =   sp.diff(time,vi)# Derivative with respect to vi (Line 21)\n",
    "dtdθ =   sp.diff(time,θ) # Derivative with respect to θ (Line 22)\n",
    "dtdy =   sp.diff(time,yi)# Derivative with respect to yi (Line 23)\n",
    "dtdg =   sp.diff(time,g) # Derivative with respect to g (Line 24)\n",
    "\n",
    "\n",
    "δt =   sp.sqrt((dtdv.subs(values) *δ_vi )**2 + (dtdθ.subs(values) *δ_θ)**2 + (dtdy.subs(values) *δ_h)**2 + (dtdg.subs(values) *δ_g)**2 )   # Calculate uncertainty in flight time (Line 27)\n",
    "\n",
    "values[t] = tFlight  # Add flight time to dictionary of values\n",
    "\n",
    "xf = vi * sp.cos(θ) * t  # define range function (Line 33)\n",
    "landingloc =  xf.subs(values) # Substitute values to obtain the landing location (Line 34)\n",
    "\n",
    "dxdvi =  sp.diff(xf,vi) # Derivative with respect to vi (Line 36) \n",
    "dxdθ =   sp.diff(xf,θ)  # Derivative with respect to θ (Line 37)\n",
    "dxdt =   sp.diff(xf,t)  # Derivative with respect to time (Line 38)\n",
    "\n",
    "\n",
    "\n",
    "# Calculate uncertainty in landing location\n",
    "δloc =   sp.sqrt((dxdvi.subs(values) *δ_vi )**2 + (dxdθ.subs(values) *δ_θ)**2 + (dxdt.subs(values) *δt)**2 )# Line 43\n",
    "print(f\"The flight time is {tFlight:5.2f} +- {δt:5.2f} seconds.\")\n",
    "print(f\"The landing location is {landingloc:5.2f} +- {δloc:5.2f} meters.\")"
   ]
  },
  {
   "cell_type": "markdown",
   "metadata": {},
   "source": [
    "#### Experiment and Analysis\n",
    "19. Put a piece of carbon paper on the floor at your predicted landing location. Draw a circle on the carbon paper to reflect the uncertainty in your prediction. Then launch the projectile and observe where it lands. Measure the distance to the landing location with its associated uncertainty and record it in the second code cell below. Put your names on the carbon paper and hand it in to B. Nelson.\n",
    "20. Using a stop watch, measure the time of flight with it's associated uncertainty. (Don't forget to consider your reaction time when assigning the uncertainty.) Record these values in the code cell below.\n",
    "21. Construct a multi-figure plot containing two plots. The first plot should display your predicted flight time next to your observed flight time. The second plot should display your predicted landing location next to your observed landing location.  Both plots should have error bars on them.\n",
    "22. Add axes labels and titles to both of your plots.\n",
    "23. Evaluate the code cell and, after observing the results, answer the following questions about your experiment in the area marked \"Response\" below: \n",
    "    1. Do your predictions and measurements agree to within your stated uncertainty?\n",
    "    2. If your observations did not match your predictions to within your stated uncertainties, comment on why you think it was?\n",
    "    \n",
    "    > Response:"
   ]
  },
  {
   "cell_type": "code",
   "execution_count": 18,
   "metadata": {},
   "outputs": [
    {
     "data": {
      "image/png": "[encoded data removed]",
      "text/plain": [
       "<Figure size 640x480 with 2 Axes>"
      ]
     },
     "metadata": {},
     "output_type": "display_data"
    }
   ],
   "source": [
    "#| eval: false\n",
    "#| echo: true\n",
    "\n",
    "obs_xf =  3.35#Record your observed landing location.\n",
    "δ_obs_xf = 0.05 # Record the uncertainty in your observed landing location.\n",
    "obs_t =  0.9   # Record your observed flight time.\n",
    "δ_obs_t = 0.25  # Recored the uncertainty in your observed flight time.\n",
    "\n",
    "# Add figures here.\n",
    "\n",
    "fig = plt.figure()            \n",
    "ax1 = fig.add_subplot(1,2,1)\n",
    "ax2 = fig.add_subplot(1,2,2)\n",
    "\n",
    "ax1.errorbar([1,2],[tFlight,obs_t],yerr = [δt,δ_obs_t],fmt = 'ro',capsize = 2,ms = 2)\n",
    "#ax1.set_xlim(0.38,0.42)\n",
    "#ax1.set_ylim(1.2,1.3)\n",
    "ax1.set_ylabel(\"Flight Time\")\n",
    "ax1.set_xticks([1,2],[\"predicted\",\"observed\"])\n",
    "ax1.set_title(\"Predicted vs. Observed\")\n",
    "\n",
    "ax2.errorbar([1,2],[landingloc,obs_xf],yerr = [δloc,δ_obs_xf],fmt = 'ko',capsize = 10,ms = 2)\n",
    "ax2.set_ylabel(\"Landing Location\")\n",
    "ax2.set_xticks([1,2],[\"predicted\",\"observed\"])\n",
    "ax2.set_title(\"Predicted vs. Observed\")\n",
    "plt.tight_layout()"
   ]
  },
  {
   "cell_type": "code",
   "execution_count": null,
   "metadata": {},
   "outputs": [],
   "source": []
  }
 ],
 "metadata": {
  "kernelspec": {
   "display_name": "Python 3 (ipykernel)",
   "language": "python",
   "name": "python3"
  },
  "language_info": {
   "codemirror_mode": {
    "name": "ipython",
    "version": 3
   },
   "file_extension": ".py",
   "mimetype": "text/x-python",
   "name": "python",
   "nbconvert_exporter": "python",
   "pygments_lexer": "ipython3",
   "version": "3.11.6"
  }
 },
 "nbformat": 4,
 "nbformat_minor": 4
}
