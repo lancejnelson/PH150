{
 "cells": [
  {
   "cell_type": "markdown",
   "metadata": {
    "tags": []
   },
   "source": [
    "# Physics 150 \n",
    "\n",
    "# Lab 1: Introduction to Error Analysis/ Propagation of Uncertainty Part I\n",
    "\n",
    "\n",
    "## Notes to Grader:\n",
    "\n",
    "### Activity I\n",
    "1. No big deductions on this first lab unless work is missing. Students are likely to struggle assigning appropriate uncertainties to their measurements.  If they do so, add a small deduction and include an explanation about why their uncertainties were too small.\n",
    "2. The students' numbers won't be exactly what I have here. The only time to worry at all is if the uncertainties differ from mine by one or more orders of magnitude.\n",
    "3. The top and bottom of the block were not cut very precisely and as are result are not perfectly flat. (done intentionally) When measuring the dimensions of the block and assigning uncertainties, students often underestimate the uncertainty on the height of the block.  Check this and if their uncertainty differs from mine by one or more orders of magnitude, point it out to them and add a small penalty. \n",
    "4. No big penalties for mistakes like the one described above yet.  If the student didn't complete a part of the lab, you can deduct the appropriate amount.\n",
    "5. If you deduct points, always explain the mistake.\n",
    "6. Check to make sure they filled out the markdown table with their results.\n",
    "7. Their code may look slightly different from mine and that is OK as long as what the did is equivalent to what I did.\n",
    "\n",
    "### Activity II\n",
    "1. As in activity I, don't expect their numbers to match mine with exactness.  The key thing is that they assign uncertainties of the appropriate magnitude.\n",
    "1. Students will often underestimate the uncertainties on the room measurements. Uncertainties in these measurements are due to:\n",
    "    1. Slack in the flexible tape.\n",
    "    2. Not measuring along a line perpendicular to the wall.\n",
    "    3. Neglecting the width of the tile.\n",
    "    4. Reading the tick marks on the flexible tape. \n",
    "    \n",
    "    The uncertainty should be on the order of 5 - 10 cm.  If the student's uncertainty differs by one or more orders of magnitude, point it out, explain why the uncertainty should be bigger, and apply a small deduction.   \n",
    "2. Big deductions are only for missing work.\n",
    "3. The students were instructed to compare their results to the other groups and comment on why their results agree with or don't agree with the others.  Check that they included a high quality comment at the indicated location. They'll know if their results agree with the others because the error bars will overlap. Common reasons for disagreement are underestimating uncertainties which leads to error bars that are too short.\n",
    "4. Their code may look slightly different from mine and that is OK as long as what the did is equivalent to what I did.\n",
    "\n",
    "Name: \n",
    "\n",
    "\n",
    "## Skills\n",
    "1. Take measurements and assign uncertainties.\n",
    "2. Use Python for simple calculations and plotting, including error bars.\n",
    "3. Propagate uncertainties for simple calcluations.\n",
    "4. Uncertainty vs. fractional uncertainty.\n",
    "\n",
    "## Introduction\n",
    "In this lab you will learn the basics of uncertainty estimation and uncertainty propagation.  Occasionally, you'll be asked to show your mathematical work for a calculation. [Here](https://www.caam.rice.edu/~heinken/latex/symbols.pdf) is a reference you can use for entering math symbols.  [This](https://kapeli.com/cheat_sheets/LaTeX_Math_Symbols.docset/Contents/Resources/Documents/index) is a good one too.\n",
    "\n",
    "## Activity I (50 points)\n",
    "\n",
    "### Equipment:\n",
    "1. Metal block and cylinder\n",
    "2. Balance scale.\n",
    "3. Caliper or ruler.\n",
    "\n",
    "### Goal: \n",
    "\n",
    "You will be given a metal block and a metal cylinder. Both objects are made of the same material.  You will be allowed to measure the __dimensions__ and __mass__ of the **cylinder** but only the dimensions of the block.  Your goal is to accurately predict the mass of the block with its associated uncertainty.  If the true mass of the block falls within your uncertainty window, the experiment is a success. \n",
    "\n",
    "Important: **You cannot directly measure the mass of the block**.  The instructor will take this measurement.\n",
    "\n",
    "\n",
    "\n",
    "### Procedure:\n",
    "Carefully follow the steps below to accomplish your task\n",
    "#### Calculate Density of Cylinder  (15 points)\n",
    "   1. Using the caliper, measure the dimensions of the metal **cylinder**.  Enter the values and the uncertainties into the code cell provided below.\n",
    "   2. (5 pts) Assign uncertainties to the measurements made in step one and record those uncertainties in the code cell provided below.\n",
    "   3.  Using the mechanical balance, measure the mass of the **cylinder**. \n",
    "   4. (5 pts) Assign an uncertainty to the mass measurment and record it in the code cell given below.\n",
    "   5.   Calculate the volume of the cylinder (in units of cm$^3$) in the code cell below.  \n",
    "   6. (5 pts) Calculate the uncertainty in the volume of the cylinder using the  equation ${\\delta V \\over V} = 2 {\\delta d\\over d} + {\\delta h \\over h}$.\n",
    "   7. (5 pts) Calculate the density of the cylinder in units of g/cm$^3$. Note: $ \\rho = {m \\over V}$\n",
    "   8. (5 pts) Calculate the uncertainty in the density of the cylinder using equation (2.28) in the book.  \n",
    "   \n",
    "#### Calculate the Volume of the Block  (15 points)\n",
    "   1. Using the caliper, measure the dimensions of the metal **block**.  Enter the values in the code cell below.\n",
    "   2. Assign uncertainties to the measurements you made and record them in the code cell below.\n",
    "   3. Calculate the volume of the block (in units of cm$^3$) in the code cell below.\n",
    "   4. Calculate the uncertainty in the volume of the block using equation (2.28).  \n",
    "   \n",
    "#### Calculate the Mass of the Block  (10 points)\n",
    "   1. Calculate the mass of the block using $\\rho = {m \\over V}$ in units of g/cm$^3$.\n",
    "   2. Calculate the uncertainty in the mass of the block using equation (2.28) \n",
    "   3. Calculate the fractional uncertainty in the mass of the block using equation (2.21).\n",
    "   \n",
    "#### Compare to True Value  (10 pts) \n",
    "   1. Have the teacher or a TA measure the mass of the block to compare against your calculation. Assign the uncertainty in this measurement to be the same as when you measured the mass of the cylinder.\n",
    "   2. Calculate the percentage error for your prediction.\n",
    "   3. Modify the table below to include your results for this experiment. \n",
    "\n",
    "Conclusion: Does your calculation agree with the true value to within the stated uncertainty?\n",
    "\n",
    "### Results\n",
    "\n",
    ">| Quantity |Value|\n",
    ">|--------|------------|\n",
    ">| Density of Cylinder (with uncertainty): |8.89 +- 0.02 g/cm^3|\n",
    ">| Predicted mass of block (with uncertainty): | 163 +- 4 grams|\n",
    ">| Actual mass of block (with uncertainty): |159.15 +- .05 grams|\n",
    ">| Percent Error:|2.21\\%|"
   ]
  },
  {
   "cell_type": "code",
   "execution_count": 1,
   "metadata": {},
   "outputs": [
    {
     "name": "stdout",
     "output_type": "stream",
     "text": [
      "The density of the cylinder is: 8.89 +/- 0.02 g/cm^3\n"
     ]
    }
   ],
   "source": [
    "from pylab import *\n",
    "from numpy import pi\n",
    "%matplotlib inline\n",
    "\n",
    "# Enter values for cylinder diameter, height, and mass. Give estimates of the uncertainties.\n",
    "d = 1.271             # diameter of cylinder in cm\n",
    "un_d = .001          # uncertainty of cylinder diameter in cm\n",
    "h = 5.073             # height of cylinder in cm\n",
    "un_h = .001         # uncertainty of cylinder height in cm\n",
    "m = 57.20             # mass of cylinder in gm\n",
    "un_m = .05          # uncertainty of cylinder mass in gm\n",
    "\n",
    "# Calculate and print the density and its uncertainty\n",
    "V =  pi * d**2/4 * h            # Use equations above to calculate volume of cylinder \n",
    "un_V =  (2 * un_d/d + un_h/h) * V         # Use equation above to calculate uncertainty in volume\n",
    "\n",
    "rho =    m/V        # Use equation above to calculate density of cylinder\n",
    "un_rho = (un_m/m + un_V/V) * rho        # Use equation above to calculate uncertainty in density\n",
    "\n",
    "print(\"The density of the cylinder is: {0:4.2f} +/- {1:4.2f} g/cm^3\".format(rho,un_rho))"
   ]
  },
  {
   "cell_type": "code",
   "execution_count": 10,
   "metadata": {},
   "outputs": [
    {
     "name": "stdout",
     "output_type": "stream",
     "text": [
      "2.2083192967706013\n",
      "The predicted mass of the block is: 163 +/- 4 g\n",
      "The measured mass of the block is: 159.15 +/- 0.05 g\n",
      "The percent error for the mass of the block is: 2.21 % \n"
     ]
    }
   ],
   "source": [
    "# Block dimensions\n",
    "l = 1.897          # length of the block in cm\n",
    "un_l = .001       # uncertainty of the length of the block in cm\n",
    "w = 1.902          # width of the block in cm\n",
    "un_w = .001       # uncertainty of the width of the block in cm\n",
    "h_b = 4.992        # height of the block in cm\n",
    "un_h_b = 0.01     # uncertainty of the height of the block in cm\n",
    "\n",
    "# Compute volume of block with uncertainty\n",
    "V_b = l * w * h        # Calculate volume of block\n",
    "un_V_b = (un_l/l + un_w/w + un_h/h) * V_b     # Calculate uncertainty in volume (can you figure it out from looking at the equation for the cylinder?)\n",
    "\n",
    "# Compute predicted mass of block\n",
    "m_b = rho * V_b        # Use previously-calculate density to calculate mass of the block\n",
    "un_m_b = (un_rho/rho + un_V_b)* m_b     #Calculate the uncertainty in the mass\n",
    "measured_m_b = 159.15\n",
    "un_measured_m_b = .05\n",
    "percent_error = abs(m_b - measured_m_b)/ measured_m_b\n",
    "print(\"The predicted mass of the block is: {0:3.0f} +/- {1:1.0f} g\".format(m_b,un_m_b))\n",
    "print(\"The measured mass of the block is: {0:3.2f} +/- {1:3.2f} g\".format(measured_m_b,un_measured_m_b))\n",
    "print(\"The percent error for the mass of the block is: {0:4.2f} % \".format(percent_error * 100))\n"
   ]
  },
  {
   "cell_type": "markdown",
   "metadata": {},
   "source": [
    "## Activity II (50 points)\n",
    "\n",
    "### Equipment:\n",
    "1. Flexible measuring tape.\n",
    "2. Meter stick.  \n",
    "\n",
    "### Goal:\n",
    "Calculate the volume of this room with its associated uncertainty.  Compare your results with classmates.  \n",
    "\n",
    "\n",
    "### Procedure:\n",
    "  1. Using the flexible measuring tape, measure the length and width of this room.  Using the meter stick, measure the height of this room. Assign uncertainties to all of these measurements. Record your values as variable in the code cell provided below.\n",
    "  2. In the code cell below, calculate the volume of the room.\n",
    "  3. Using equation (2.28) calculate the uncertainty in the volume in the code cell below.\n",
    "  4. Use equation (2.21) to calculate the fractional uncertainty in the room as a percentage.\n",
    "  5. Compare your results with the other groups in class. Enter their volumes (and yours) along with their uncertainties (and yours) on lines 5 and 6 of the code cell provided.\n",
    "  6. Label your axes and put a title on your plot.  To learn how, go to [matplotlib.org](https://www.matplotlib.org) and click on the \"Tutorials\" tab. Either the \"Usage Guide\" or the \"Pyplot Tutorial\" will show you how to add axes labels and a title.\n",
    "  7. Is your answer consistent with those of the other groups?  If not, explain why it isn't.\n",
    ">**Response:**\n"
   ]
  },
  {
   "cell_type": "code",
   "execution_count": 23,
   "metadata": {},
   "outputs": [
    {
     "name": "stdout",
     "output_type": "stream",
     "text": [
      "The volume of the room is:  300 +/-  80 m^3\n"
     ]
    }
   ],
   "source": [
    "# Room dimensions\n",
    "lr = 11.7          # length of the room in m\n",
    "un_lr = 0.5       # uncertainty of the length of the room in m\n",
    "wr = 8.8          # width of the room in m\n",
    "un_wr = 0.5       # uncertainty of the width of the room in m\n",
    "hr = 2.9          # height of the room in m\n",
    "un_hr =  0.5      # uncertainty of the height of the room in m\n",
    "\n",
    "# Compute volume of the room with uncertainty\n",
    "V_r = lr * wr * hr         # Compute the volume of the room\n",
    "un_V_r = (un_lr/lr + un_wr/wr + un_hr/hr) * V_r      # Compute the uncertainty in the volume.\n",
    "\n",
    "print(\"The volume of the room is: {0:4.0f} +/- {1:3.0f} m^3\".format(round(V_r,-1),round(un_V_r,-1)))"
   ]
  },
  {
   "cell_type": "code",
   "execution_count": null,
   "metadata": {},
   "outputs": [],
   "source": [
    "import matplotlib.pyplot as plt\n",
    "%matplotlib inline\n",
    "\n",
    "group_num = [1,2,3,4,5,6]\n",
    "volume = []  # Line 5\n",
    "un_volume = []  # Line 6\n",
    "ax = plt.axes()\n",
    "ax.errorbar(group_num,volume,yerr = un_volume,fmt = 'go', capsize = 6)\n",
    "plt.show()"
   ]
  }
 ],
 "metadata": {
  "kernelspec": {
   "display_name": "Python 3 (ipykernel)",
   "language": "python",
   "name": "python3"
  },
  "language_info": {
   "codemirror_mode": {
    "name": "ipython",
    "version": 3
   },
   "file_extension": ".py",
   "mimetype": "text/x-python",
   "name": "python",
   "nbconvert_exporter": "python",
   "pygments_lexer": "ipython3",
   "version": "3.11.2"
  }
 },
 "nbformat": 4,
 "nbformat_minor": 4
}
