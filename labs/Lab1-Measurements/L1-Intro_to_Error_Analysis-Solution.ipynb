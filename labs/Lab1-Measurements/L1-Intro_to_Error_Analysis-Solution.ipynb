{
 "cells": [
  {
   "cell_type": "markdown",
   "metadata": {},
   "source": [
    "# Lab 1: Measurement and Uncertainty {-}\n",
    "\n",
    "# Introduction to Error Analysis\n",
    "\n",
    "\n",
    "Name:  \n"
   ]
  },
  {
   "cell_type": "markdown",
   "metadata": {},
   "source": [
    "## Lab Activity I (50 pts)\n",
    "\n",
    "### Equipment:\n",
    "1. Metal block and cylinder\n",
    "2. Balance scale.\n",
    "3. Caliper or ruler.\n",
    "\n",
    "### Goal: \n",
    "\n",
    "You will be given a metal block and a metal cylinder. Both objects are made of the same material.  You will be allowed to measure the __dimensions__ and __mass__ of the **cylinder** but only the dimensions of the block.  Your goal is to accurately predict the mass of the block with its associated uncertainty.  If the true mass of the block falls within your uncertainty window, the experiment is a success. \n",
    "\n",
    "Important: **You cannot directly measure the mass of the block**.  The instructor will take this measurement.\n",
    "\n",
    "\n",
    "\n",
    "### Procedure:\n",
    "Carefully follow the steps below to accomplish your task   (No calculators allowed. All calculations must be performed in Python!!)\n",
    "\n",
    "#### Calculate Density of Cylinder  (15 points)  \n",
    "\n",
    "   1. Using the caliper, measure the dimensions of the metal **cylinder**.  Enter the values and the uncertainties into the code cell provided below.\n",
    "   2. Assign uncertainties to the measurements made in step one and record those uncertainties in the code cell provided below.\n",
    "   3. Using the mechanical balance, measure the mass of the **cylinder**. \n",
    "   4. Assign an uncertainty to the mass measurment and record it in the code cell given below.\n",
    "   5. Calculate the volume of the cylinder (in units of $\\text{cm}^3$) in the code cell below.  \n",
    "   6. Calculate the uncertainty in the volume of the cylinder.\n",
    "   7. Calculate the density of the cylinder in units of $\\text{g/cm}^3$. Note: $\\rho = {m \\over V}$\n",
    "   8. Calculate the uncertainty in the density of the cylinder.\n",
    "   9. Use a formatted print statement to display the density of the the cylinder with its associated uncertainty.\n",
    "   \n",
    "#### Calculate the Volume of the Block  (15 points)  \n",
    "\n",
    "   1. Using the caliper, measure the dimensions of the metal **block**.  Enter the values in the code cell below.\n",
    "   2. Assign uncertainties to the measurements you made and record them in the code cell below.\n",
    "   3. Calculate the volume of the block (in units of $\\text{cm}^3$) in the code cell below.\n",
    "   4. Calculate the uncertainty in the volume of the block.\n",
    "   \n",
    "#### Calculate the Mass of the Block  (10 points)  \n",
    "\n",
    "   1. Calculate the mass of the block using $\\rho = {m \\over V}$ in units of $\\text{g/cm}^3$.\n",
    "   2. Calculate the uncertainty in the mass of the block.\n",
    "   3. Calculate the fractional uncertainty in the mass of the block.\n",
    "   4. Use a formatted print statement to display the predicted mass of the block with its associated uncertainty.\n",
    "   \n",
    "#### Compare to True Value  (10 pts) \n",
    "   1. Have the teacher or a TA measure the mass of the block to compare against your calculation. Assign the uncertainty in this measurement to be the same as when you measured the mass of the cylinder.\n",
    "   2. Calculate the percentage error for your prediction.\n",
    "   3. Modify the table below to include your results for this experiment. \n",
    "\n",
    "Conclusion: Does your calculation agree with the true value to within the stated uncertainty?\n",
    "\n",
    "### Results\n",
    "\n",
    ">| Quantity |Value|\n",
    ">|--------|------------|\n",
    ">| Density of Cylinder (with uncertainty): |8.90 $\\pm$ 0.02 g/cm^3|\n",
    ">| Predicted mass of block (with uncertainty): | 162 $\\pm$ 1 grams|\n",
    ">| Actual mass of block (with uncertainty): |160.7 $\\pm$ 0.1 grams|\n",
    ">| Percent Error:|-0.74%|"
   ]
  },
  {
   "cell_type": "code",
   "execution_count": 9,
   "metadata": {},
   "outputs": [
    {
     "name": "stdout",
     "output_type": "stream",
     "text": [
      "The density of the cylinder is  8.90 +-  0.02 g/cm^3\n",
      "The predicted mass of the block is 161.91 +-  1.28 grams\n",
      "The measured mass of the block is 160.70 +-  0.10 grams\n",
      "The percent error is  -0.74 %\n"
     ]
    }
   ],
   "source": [
    "#| eval: false \n",
    "from pylab import *\n",
    "%matplotlib inline\n",
    "\n",
    "# Enter values for cylinder diameter, height, and mass. Give estimates of the uncertainties.\n",
    "d =     1.270         # diameter of cylinder in cm\n",
    "un_d =  0.001         # uncertainty of cylinder diameter in cm\n",
    "h =     5.073         # height of cylinder in cm\n",
    "un_h =  0.001         # uncertainty of cylinder height in cm\n",
    "m =    57.2          # mass of cylinder in gm\n",
    "un_m = 0.1          # uncertainty of cylinder mass in gm\n",
    "\n",
    "# Calculate and print the density and its uncertainty\n",
    "V =  np.pi * (d/2)**2 * h            # Use equations above to calculate volume of cylinder \n",
    "un_V =  np.sqrt((np.pi * d * h/2 * un_d)**2 + (np.pi * d**2/4 * un_h)**2)         # Use equation above to calculate uncertainty in volume\n",
    "\n",
    "rho = m/V            # Use equation above to calculate density of cylinder\n",
    "un_rho =  np.sqrt((un_V * m/V**2)**2 + (1/V * un_m)**2)       # Use equation above to calculate uncertainty in density\n",
    "\n",
    "print(f\"The density of the cylinder is {rho:5.2f} +- {un_rho:5.2f} g/cm^3\")          # Use a formatted print statement to display your density with its uncertainty. (include the units.)\n",
    "\n",
    "\n",
    "# Block dimensions\n",
    "l =    5.052       # length of the block in cm\n",
    "un_l = 0.005       # uncertainty of the length of the block in cm\n",
    "w =    1.897       # width of the block in cm\n",
    "un_w = 0.005       # uncertainty of the width of the block in cm\n",
    "h_b =  1.898       # height of the block in cm\n",
    "un_h_b = 0.005     # uncertainty of the height of the block in cm\n",
    "\n",
    "# Compute volume of block with uncertainty\n",
    "V_b =  l * w * h_b       # Calculate volume of block\n",
    "un_V_b =  np.sqrt((w * h * un_l)**2 + (l * w * un_h)**2 + (l * h * un_w)**2)    # Calculate uncertainty in volume (can you figure it out from looking at the equation for the cylinder?)\n",
    "\n",
    "# Compute predicted mass of block\n",
    "m_b =  rho * V_b       # Use previously-calculate density to calculate mass of the block\n",
    "un_m_b =  np.sqrt((V_b * un_rho)**2 + (rho * un_V_b)**2)    #Calculate the uncertainty in the mass\n",
    "\n",
    "print(f\"The predicted mass of the block is {m_b:5.2f} +- {un_m_b:5.2f} grams\")\n",
    "          # Use a formatted print statement to display your predicted mass with its uncertainty. (include the units.)\n",
    "\n",
    "measuredMass = 160.7\n",
    "percentError = (measuredMass - m_b)/m_b *100\n",
    "print(f\"The measured mass of the block is {measuredMass:5.2f} +- {0.1:5.2f} grams\")\n",
    "print(f\"The percent error is  {percentError:5.2f} %\")"
   ]
  },
  {
   "cell_type": "markdown",
   "metadata": {},
   "source": [
    "## Activity II (50 points)\n",
    "\n",
    "### Equipment:\n",
    "1. Flexible measuring tape.\n",
    "2. Meter stick.  \n",
    "\n",
    "### Goal:\n",
    "Calculate the volume of this room with its associated uncertainty.  Compare your results with classmates.  \n",
    "\n",
    "\n",
    "### Procedure:\n",
    "  1. Using the flexible measuring tape, measure the length and width of this room.  Using the meter stick, measure the height of this room. Assign uncertainties to all of these measurements. Record your values as variable in the code cell provided below.\n",
    "  2. In the code cell below, calculate the volume of the room.\n",
    "  3. Calculate the uncertainty in the volume in the code cell below.\n",
    "  4. Calculate the fractional uncertainty in the room as a percentage.\n",
    "  5. Use a formatted print statement to display the volume of the room with its associated uncertainty.\n",
    "  6. Compare your results with the other groups in class. Enter their volumes (and yours) along with their uncertainties (and yours) in the cell provided below.\n",
    "  7. Collect volumes (with uncertainties) for the other groups in the class and make an errorbar plot of all groups' measurements with their uncertainties.\n",
    "  8. Label your axes and put a title on your plot.  \n",
    "  9. Is your answer consistent with those of the other groups?  If not, explain why it isn't.  \n",
    "  \n",
    ">**Response:**"
   ]
  },
  {
   "cell_type": "code",
   "execution_count": 15,
   "metadata": {},
   "outputs": [
    {
     "name": "stdout",
     "output_type": "stream",
     "text": [
      "The volume of the room is 279.93 +-  9.96 m^3\n"
     ]
    },
    {
     "data": {
      "text/plain": [
       "Text(0.5, 1.0, 'Volume of room by group')"
      ]
     },
     "execution_count": 15,
     "metadata": {},
     "output_type": "execute_result"
    },
    {
     "data": {
      "image/png": "[encoded data removed]",
      "text/plain": [
       "<Figure size 640x480 with 1 Axes>"
      ]
     },
     "metadata": {},
     "output_type": "display_data"
    }
   ],
   "source": [
    "#| eval: false \n",
    "# Room dimensions\n",
    "from matplotlib import pyplot as plt\n",
    "lr =  10.5         # length of the room in m\n",
    "un_lr =  0.1      # uncertainty of the length of the room in m\n",
    "wr =   8.6        # width of the room in m\n",
    "un_wr =  0.1      # uncertainty of the width of the room in m\n",
    "hr =   3.1        # height of the room in m\n",
    "un_hr =  0.1      # uncertainty of the height of the room in m\n",
    "\n",
    "# Compute volume of the room with uncertainty\n",
    "V_r =  lr * wr * hr      # Compute the volume of the room\n",
    "un_V_r =  np.sqrt((wr * hr * un_lr)**2 + (lr * wr * un_hr)**2 + (lr * hr * un_wr)**2)     # Compute the uncertainty in the volume.\n",
    "\n",
    "print(f\"The volume of the room is {V_r:5.2f} +- {un_V_r:5.2f} m^3\")               # Add a formatted print statement to display the volume with its uncertainty.\n",
    "\n",
    "plt.errorbar([1,2,3,4,5],[V_r, 290,250,265,273],fmt = \"ro\",yerr = [10,20,5,12,15],capsize = 8)\n",
    "plt.xlabel(\"Group\")\n",
    "plt.ylabel(\"Volume (m^3)\")\n",
    "plt.title(\"Volume of room by group\")\n",
    "# Make error bar plot of all groups volumes here"
   ]
  },
  {
   "cell_type": "code",
   "execution_count": null,
   "metadata": {},
   "outputs": [],
   "source": []
  }
 ],
 "metadata": {
  "kernelspec": {
   "display_name": "Python 3 (ipykernel)",
   "language": "python",
   "name": "python3"
  },
  "language_info": {
   "codemirror_mode": {
    "name": "ipython",
    "version": 3
   },
   "file_extension": ".py",
   "mimetype": "text/x-python",
   "name": "python",
   "nbconvert_exporter": "python",
   "pygments_lexer": "ipython3",
   "version": "3.11.6"
  }
 },
 "nbformat": 4,
 "nbformat_minor": 4
}
